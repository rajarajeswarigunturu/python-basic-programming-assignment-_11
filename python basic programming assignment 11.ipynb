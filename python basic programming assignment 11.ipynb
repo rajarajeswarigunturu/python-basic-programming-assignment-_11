{
 "cells": [
  {
   "cell_type": "code",
   "execution_count": null,
   "id": "bcf184fa",
   "metadata": {},
   "outputs": [],
   "source": [
    "# 1.Write a Python program to find words which are greater than given length k?"
   ]
  },
  {
   "cell_type": "code",
   "execution_count": 2,
   "id": "2f0f604c",
   "metadata": {},
   "outputs": [
    {
     "name": "stdout",
     "output_type": "stream",
     "text": [
      "['India', 'country']\n"
     ]
    }
   ],
   "source": [
    "def new_str(k, str):\n",
    "    new_set = []\n",
    "    words = str.split(\" \")\n",
    "    \n",
    "    for i in words:\n",
    "        if len(i) > k:\n",
    "            new_set.append(i)\n",
    "    return new_set\n",
    "\n",
    "k = 3\n",
    "str = \"India is my country\"\n",
    "print(new_str(k, str))"
   ]
  },
  {
   "cell_type": "code",
   "execution_count": null,
   "id": "2c6e8e82",
   "metadata": {},
   "outputs": [],
   "source": [
    "# 2.Write a Python program for removing i-th character from a string?"
   ]
  },
  {
   "cell_type": "code",
   "execution_count": 3,
   "id": "dcbce9e0",
   "metadata": {},
   "outputs": [
    {
     "name": "stdout",
     "output_type": "stream",
     "text": [
      "indeendenceday\n"
     ]
    }
   ],
   "source": [
    "def remove_i(str, i):\n",
    "    \n",
    "    a = str[:i]\n",
    "    b = str[i+1:]\n",
    "    \n",
    "    return a + b\n",
    "\n",
    "str = \"independenceday\"\n",
    "i = 4\n",
    "print(remove_i(str,i))"
   ]
  },
  {
   "cell_type": "code",
   "execution_count": null,
   "id": "7127ee10",
   "metadata": {},
   "outputs": [],
   "source": [
    "# 3.Write a Python program to split and join a string?"
   ]
  },
  {
   "cell_type": "code",
   "execution_count": 10,
   "id": "b22e9e72",
   "metadata": {},
   "outputs": [
    {
     "name": "stdout",
     "output_type": "stream",
     "text": [
      "['our', 'dog', 'name', 'is', 'puppy']\n"
     ]
    },
    {
     "data": {
      "text/plain": [
       "'our.dog.name.is.puppy'"
      ]
     },
     "execution_count": 10,
     "metadata": {},
     "output_type": "execute_result"
    }
   ],
   "source": [
    "def split_str(str):\n",
    "    \n",
    "    a = str.split(\" \")\n",
    "    return a\n",
    "\n",
    "def join_str(a):\n",
    "    \n",
    "    b = '.'.join(a)\n",
    "    return b\n",
    "    \n",
    "\n",
    "c = split_str(\"our dog name is puppy\")\n",
    "print(c)\n",
    "join_str(c)"
   ]
  },
  {
   "cell_type": "code",
   "execution_count": null,
   "id": "3344b6b2",
   "metadata": {},
   "outputs": [],
   "source": [
    "# 4.Write a Python to check if a given string is binary string or not?"
   ]
  },
  {
   "cell_type": "code",
   "execution_count": 13,
   "id": "55213f65",
   "metadata": {},
   "outputs": [
    {
     "name": "stdout",
     "output_type": "stream",
     "text": [
      "no, it is not a binary value\n",
      "yes, it is a binary value\n"
     ]
    }
   ],
   "source": [
    "def check(string):\n",
    "    \n",
    "    a = set(string)\n",
    "    b = {'0','1'}\n",
    "    \n",
    "    if b == a or a == {'0'} or a == {'1'}:\n",
    "        print (\"yes, it is a binary value\")\n",
    "    else:\n",
    "        print(\"no, it is not a binary value\")\n",
    "        \n",
    "check(\"priya10\")\n",
    "\n",
    "check(\"10101000\")\n",
    "    "
   ]
  },
  {
   "cell_type": "code",
   "execution_count": null,
   "id": "9ca7e7d8",
   "metadata": {},
   "outputs": [],
   "source": [
    "# 5.Write a Python program to find uncommon words from two Strings?"
   ]
  },
  {
   "cell_type": "code",
   "execution_count": 30,
   "id": "1c8e9299",
   "metadata": {},
   "outputs": [
    {
     "name": "stdout",
     "output_type": "stream",
     "text": [
      "['america', 'japan', 'canada', 'my', 'country', 'name', 'is']\n"
     ]
    }
   ],
   "source": [
    "def uncommon(a,b):\n",
    "    count = {}\n",
    "    \n",
    "    for i in a.split():\n",
    "        count[i] = count.get(i,0) + 1\n",
    "        \n",
    "    for i in b.split():\n",
    "        count[i] = count.get(i,0) + 1\n",
    "        \n",
    "    return [i for i in count if count[i] == 1]\n",
    "\n",
    "a = \"india america japan canada\"\n",
    "b = \" my country name is india\"\n",
    "\n",
    "print(uncommon(a,b))"
   ]
  },
  {
   "cell_type": "code",
   "execution_count": null,
   "id": "feb6903a",
   "metadata": {},
   "outputs": [],
   "source": [
    "# 6.Write a Python to find all duplicate characters in string?"
   ]
  },
  {
   "cell_type": "code",
   "execution_count": 77,
   "id": "1b6f4de9",
   "metadata": {},
   "outputs": [
    {
     "data": {
      "text/plain": [
       "['y', 'd', 's', 'g', 'u', 'w']"
      ]
     },
     "execution_count": 77,
     "metadata": {},
     "output_type": "execute_result"
    }
   ],
   "source": [
    "def duplicate_characters(string):\n",
    "    \n",
    "    chars = {}\n",
    "    \n",
    "    for i in string:\n",
    "        if i not in chars:\n",
    "            chars[i]=1\n",
    "        else:\n",
    "            chars[i]+= 1\n",
    "            \n",
    "    duplicates = []\n",
    "    for i, count in chars.items():\n",
    "        if count > 1:\n",
    "            duplicates.append(i)\n",
    "            \n",
    "    return duplicates\n",
    "\n",
    "duplicate_characters(\"yfdysgysgshvczxuadgwdwuy\")"
   ]
  },
  {
   "cell_type": "code",
   "execution_count": null,
   "id": "8e2cb700",
   "metadata": {},
   "outputs": [],
   "source": [
    "# 7.Write a Python Program to check if a string contains any special character?"
   ]
  },
  {
   "cell_type": "code",
   "execution_count": 96,
   "id": "ef6aaa4a",
   "metadata": {},
   "outputs": [],
   "source": [
    "import re\n",
    "\n",
    "def enter_a_string(string):\n",
    "    \n",
    "    regex = re.compile('[@_!#$%^&*()<>?/\\|}{~:]')\n",
    "    \n",
    "    if (regex.search(string) == None):\n",
    "        print(\"special character is not found\")\n",
    "    else:\n",
    "        print(\"special character is found in the given string\")\n",
    "        "
   ]
  },
  {
   "cell_type": "code",
   "execution_count": 97,
   "id": "6bd14169",
   "metadata": {},
   "outputs": [
    {
     "name": "stdout",
     "output_type": "stream",
     "text": [
      "special character is not found\n"
     ]
    }
   ],
   "source": [
    "enter_a_string(\"dsifhgf\")"
   ]
  },
  {
   "cell_type": "code",
   "execution_count": 98,
   "id": "23bd4613",
   "metadata": {},
   "outputs": [
    {
     "name": "stdout",
     "output_type": "stream",
     "text": [
      "special character is found in the given string\n"
     ]
    }
   ],
   "source": [
    "enter_a_string(\"dsif^h#gf\")"
   ]
  },
  {
   "cell_type": "code",
   "execution_count": null,
   "id": "644bf7a8",
   "metadata": {},
   "outputs": [],
   "source": []
  }
 ],
 "metadata": {
  "kernelspec": {
   "display_name": "Python 3 (ipykernel)",
   "language": "python",
   "name": "python3"
  },
  "language_info": {
   "codemirror_mode": {
    "name": "ipython",
    "version": 3
   },
   "file_extension": ".py",
   "mimetype": "text/x-python",
   "name": "python",
   "nbconvert_exporter": "python",
   "pygments_lexer": "ipython3",
   "version": "3.9.7"
  }
 },
 "nbformat": 4,
 "nbformat_minor": 5
}
